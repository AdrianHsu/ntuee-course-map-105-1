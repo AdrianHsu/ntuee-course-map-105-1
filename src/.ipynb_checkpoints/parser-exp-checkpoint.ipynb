{
 "cells": [
  {
   "cell_type": "code",
   "execution_count": 1,
   "metadata": {
    "collapsed": false,
    "deletable": true,
    "editable": true
   },
   "outputs": [],
   "source": [
    "import numpy as np\n",
    "import pandas as pd"
   ]
  },
  {
   "cell_type": "code",
   "execution_count": 2,
   "metadata": {
    "collapsed": false,
    "deletable": true,
    "editable": true
   },
   "outputs": [],
   "source": [
    "data = pd.read_csv(\"./dat/exp.csv\",sep=',', header=None) #10選2"
   ]
  },
  {
   "cell_type": "code",
   "execution_count": 3,
   "metadata": {
    "collapsed": false,
    "deletable": true,
    "editable": true
   },
   "outputs": [],
   "source": [
    "data.sort_values(1)\n",
    "data = data.fillna(0)"
   ]
  },
  {
   "cell_type": "code",
   "execution_count": 4,
   "metadata": {
    "collapsed": false,
    "deletable": true,
    "editable": true
   },
   "outputs": [
    {
     "data": {
      "text/html": [
       "<div>\n",
       "<table border=\"1\" class=\"dataframe\">\n",
       "  <thead>\n",
       "    <tr style=\"text-align: right;\">\n",
       "      <th></th>\n",
       "      <th>0</th>\n",
       "      <th>1</th>\n",
       "      <th>2</th>\n",
       "      <th>3</th>\n",
       "      <th>4</th>\n",
       "      <th>5</th>\n",
       "    </tr>\n",
       "  </thead>\n",
       "  <tbody>\n",
       "    <tr>\n",
       "      <th>0</th>\n",
       "      <td>電力、控制（範例）</td>\n",
       "      <td>電力電子實驗</td>\n",
       "      <td>陳耀銘</td>\n",
       "      <td>電力電子概論</td>\n",
       "      <td>\\n前半學期幾乎是電力電子概論實作，這就是推薦跟概論一起修的原因，會有種把理論應用、實作出來...</td>\n",
       "      <td>0</td>\n",
       "    </tr>\n",
       "    <tr>\n",
       "      <th>1</th>\n",
       "      <td>電波</td>\n",
       "      <td>電磁波實驗</td>\n",
       "      <td>林坤佑</td>\n",
       "      <td>電磁學二</td>\n",
       "      <td>結報不好寫，期末考要讀蠻多東西的。教授人不算差，實驗不難做，但應該有更涼的選擇。</td>\n",
       "      <td>\\r\\n學期初會開會和修課同學討論然後決定時段，之後當場分組（２～３人）。\\r\\n學期中沒有...</td>\n",
       "    </tr>\n",
       "    <tr>\n",
       "      <th>2</th>\n",
       "      <td>生醫</td>\n",
       "      <td>生醫工程實驗</td>\n",
       "      <td>李百祺</td>\n",
       "      <td>生醫工程概論</td>\n",
       "      <td>如之前的評價，三個生醫實驗基本上不難，照做就有結果，\\n不過需要花一些時間，尤其是最後自己接...</td>\n",
       "      <td>0</td>\n",
       "    </tr>\n",
       "    <tr>\n",
       "      <th>3</th>\n",
       "      <td>奈電</td>\n",
       "      <td>半導體實驗</td>\n",
       "      <td>劉致為</td>\n",
       "      <td>半導體工程(下學期開)\\n固態電子學</td>\n",
       "      <td>建議先修過固電，會對實驗原理比較清楚。助教會教大家分析實驗數據，所以結報還滿輕鬆的。\\n老師...</td>\n",
       "      <td>老師很愛台灣，希望大家來做半導體，不要都跑去讀Computer Science。\\n另外老師...</td>\n",
       "    </tr>\n",
       "    <tr>\n",
       "      <th>4</th>\n",
       "      <td>光電</td>\n",
       "      <td>光電實驗</td>\n",
       "      <td>林晃巖</td>\n",
       "      <td>光電導論(其實也不用</td>\n",
       "      <td>每三個實驗為一個周期，每個周期前會找一天每個修課的人都有空的時間上這3個實驗的內容\\n因為要...</td>\n",
       "      <td>0</td>\n",
       "    </tr>\n",
       "    <tr>\n",
       "      <th>5</th>\n",
       "      <td>控制</td>\n",
       "      <td>自動控制實驗</td>\n",
       "      <td>連豊力</td>\n",
       "      <td>要先修控制系統</td>\n",
       "      <td>前半學期做的是控制馬達(很大的一台)，基本上就是把控制系統一整學期學到的控制理論，套在那顆馬...</td>\n",
       "      <td>0</td>\n",
       "    </tr>\n",
       "    <tr>\n",
       "      <th>6</th>\n",
       "      <td>數電</td>\n",
       "      <td>數位電路實驗</td>\n",
       "      <td>簡韶逸</td>\n",
       "      <td>無</td>\n",
       "      <td>Loading：&gt;資結，請小心😂 學到東西：很多，因為全部自立自強Orz 綜合推薦 想走I...</td>\n",
       "      <td>0</td>\n",
       "    </tr>\n",
       "    <tr>\n",
       "      <th>7</th>\n",
       "      <td>嵌入式</td>\n",
       "      <td>嵌入式實驗</td>\n",
       "      <td>王勝德</td>\n",
       "      <td>無</td>\n",
       "      <td>滿分10分直接來評個分： 涼爽度：平常8分，final 4分 甜度：我也想知道... 硬度：...</td>\n",
       "      <td>0</td>\n",
       "    </tr>\n",
       "  </tbody>\n",
       "</table>\n",
       "</div>"
      ],
      "text/plain": [
       "           0       1    2                   3  \\\n",
       "0  電力、控制（範例）  電力電子實驗  陳耀銘              電力電子概論   \n",
       "1         電波   電磁波實驗  林坤佑                電磁學二   \n",
       "2         生醫  生醫工程實驗  李百祺              生醫工程概論   \n",
       "3         奈電   半導體實驗  劉致為  半導體工程(下學期開)\\n固態電子學   \n",
       "4         光電    光電實驗  林晃巖          光電導論(其實也不用   \n",
       "5         控制  自動控制實驗  連豊力             要先修控制系統   \n",
       "6         數電  數位電路實驗  簡韶逸                   無   \n",
       "7        嵌入式   嵌入式實驗  王勝德                   無   \n",
       "\n",
       "                                                   4  \\\n",
       "0  \\n前半學期幾乎是電力電子概論實作，這就是推薦跟概論一起修的原因，會有種把理論應用、實作出來...   \n",
       "1           結報不好寫，期末考要讀蠻多東西的。教授人不算差，實驗不難做，但應該有更涼的選擇。   \n",
       "2  如之前的評價，三個生醫實驗基本上不難，照做就有結果，\\n不過需要花一些時間，尤其是最後自己接...   \n",
       "3  建議先修過固電，會對實驗原理比較清楚。助教會教大家分析實驗數據，所以結報還滿輕鬆的。\\n老師...   \n",
       "4  每三個實驗為一個周期，每個周期前會找一天每個修課的人都有空的時間上這3個實驗的內容\\n因為要...   \n",
       "5  前半學期做的是控制馬達(很大的一台)，基本上就是把控制系統一整學期學到的控制理論，套在那顆馬...   \n",
       "6  Loading：>資結，請小心😂 學到東西：很多，因為全部自立自強Orz 綜合推薦 想走I...   \n",
       "7  滿分10分直接來評個分： 涼爽度：平常8分，final 4分 甜度：我也想知道... 硬度：...   \n",
       "\n",
       "                                                   5  \n",
       "0                                                  0  \n",
       "1  \\r\\n學期初會開會和修課同學討論然後決定時段，之後當場分組（２～３人）。\\r\\n學期中沒有...  \n",
       "2                                                  0  \n",
       "3  老師很愛台灣，希望大家來做半導體，不要都跑去讀Computer Science。\\n另外老師...  \n",
       "4                                                  0  \n",
       "5                                                  0  \n",
       "6                                                  0  \n",
       "7                                                  0  "
      ]
     },
     "execution_count": 4,
     "metadata": {},
     "output_type": "execute_result"
    }
   ],
   "source": [
    "data"
   ]
  },
  {
   "cell_type": "code",
   "execution_count": 5,
   "metadata": {
    "collapsed": false,
    "deletable": true,
    "editable": true
   },
   "outputs": [],
   "source": [
    "# domain = data.get(0) # no use\n",
    "course = data.get(1)\n",
    "prof = data.get(2)\n",
    "recom = data.get(3)\n",
    "content1 = data.get(4)\n",
    "content2 = data.get(5)"
   ]
  },
  {
   "cell_type": "code",
   "execution_count": 6,
   "metadata": {
    "collapsed": true,
    "deletable": true,
    "editable": true
   },
   "outputs": [],
   "source": [
    "f = open('./result/exp.md', 'w')"
   ]
  },
  {
   "cell_type": "code",
   "execution_count": 9,
   "metadata": {
    "collapsed": false,
    "deletable": true,
    "editable": true
   },
   "outputs": [],
   "source": [
    "for i in range(len(data)):\n",
    "    f.write(\"> \" + str(course[i]) + \"\\n\\n\")\n",
    "    f.write(\"* 開課教授：\" + str(prof[i]) + \"\\n\")\n",
    "    f.write(\"* 相關領域：\" + str(recom[i]) + \"\\n\")\n",
    "    f.write(\"* 課程小卦：\\n\")\n",
    "    if content1[i] != 0:\n",
    "        tmp = content1[i].replace('\\n', '')\n",
    "        f.write(\"  1. \" + tmp + \"\\n\")\n",
    "    if content2[i] != 0:\n",
    "        tmp = content2[i].replace('\\n', '')\n",
    "        f.write(\"  2. \" + tmp + \"\\n\")\n",
    "    f.write(\"\\n\")"
   ]
  },
  {
   "cell_type": "code",
   "execution_count": null,
   "metadata": {
    "collapsed": true,
    "deletable": true,
    "editable": true
   },
   "outputs": [],
   "source": []
  }
 ],
 "metadata": {
  "kernelspec": {
   "display_name": "Python 2",
   "language": "python",
   "name": "python2"
  },
  "language_info": {
   "codemirror_mode": {
    "name": "ipython",
    "version": 2
   },
   "file_extension": ".py",
   "mimetype": "text/x-python",
   "name": "python",
   "nbconvert_exporter": "python",
   "pygments_lexer": "ipython2",
   "version": "2.7.10"
  }
 },
 "nbformat": 4,
 "nbformat_minor": 2
}
