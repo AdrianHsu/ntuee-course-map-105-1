{
 "cells": [
  {
   "cell_type": "code",
   "execution_count": 2,
   "metadata": {
    "collapsed": false,
    "deletable": true,
    "editable": true
   },
   "outputs": [],
   "source": [
    "import numpy as np\n",
    "import pandas as pd"
   ]
  },
  {
   "cell_type": "code",
   "execution_count": 3,
   "metadata": {
    "collapsed": false,
    "deletable": true,
    "editable": true
   },
   "outputs": [],
   "source": [
    "data = pd.read_csv(\"./dat/1.csv\",sep=',', header=None) #專題"
   ]
  },
  {
   "cell_type": "code",
   "execution_count": 4,
   "metadata": {
    "collapsed": false,
    "deletable": true,
    "editable": true
   },
   "outputs": [],
   "source": [
    "data.sort_values(1)\n",
    "data = data.fillna(0)"
   ]
  },
  {
   "cell_type": "code",
   "execution_count": 5,
   "metadata": {
    "collapsed": false,
    "deletable": true,
    "editable": true
   },
   "outputs": [
    {
     "data": {
      "text/html": [
       "<div>\n",
       "<table border=\"1\" class=\"dataframe\">\n",
       "  <thead>\n",
       "    <tr style=\"text-align: right;\">\n",
       "      <th></th>\n",
       "      <th>0</th>\n",
       "      <th>1</th>\n",
       "      <th>2</th>\n",
       "    </tr>\n",
       "  </thead>\n",
       "  <tbody>\n",
       "    <tr>\n",
       "      <th>0</th>\n",
       "      <td>王奕翔（範例）</td>\n",
       "      <td>通訊、statistical learning theory</td>\n",
       "      <td>老師的帶法比較像在帶研究生，一開始可以自己找題目或是老師會給，但要經歷一段定義題目、自行找p...</td>\n",
       "    </tr>\n",
       "    <tr>\n",
       "      <th>1</th>\n",
       "      <td>黃鐘揚 (Ric)</td>\n",
       "      <td>Web Programming</td>\n",
       "      <td>基本上就是在上課學Web Programming，這門課的節奏比較緊湊，但是能學到非常多東西。</td>\n",
       "    </tr>\n",
       "    <tr>\n",
       "      <th>2</th>\n",
       "      <td>陳和麟（Holin）</td>\n",
       "      <td>Game Theory, Molecular Computing</td>\n",
       "      <td>一般一次完整的專題是一年，第一學期會每週有固定group meeting，一人應該是分到兩次...</td>\n",
       "    </tr>\n",
       "    <tr>\n",
       "      <th>3</th>\n",
       "      <td>吳忠幟</td>\n",
       "      <td>OLED</td>\n",
       "      <td>一開始老師會給題目，完整做大約要一年以上。有很厲害的博班學長帶，但他們大多時候就是只會教你用...</td>\n",
       "    </tr>\n",
       "    <tr>\n",
       "      <th>4</th>\n",
       "      <td>張耀文\\n</td>\n",
       "      <td>EDA</td>\n",
       "      <td>有幾種模式：1.跟台積電的計劃2.自己做新題目，\"有可能\"可以發paper 3.跟學長姊的研...</td>\n",
       "    </tr>\n",
       "    <tr>\n",
       "      <th>5</th>\n",
       "      <td>朱浩華(資工系)/游創文(Intel中心)</td>\n",
       "      <td>IoT</td>\n",
       "      <td>講重點：不要問，很可怕。學長字字血淚，請幫QQ。\\n面談時老師會跟你畫一個很美好的願景，未來...</td>\n",
       "    </tr>\n",
       "  </tbody>\n",
       "</table>\n",
       "</div>"
      ],
      "text/plain": [
       "                       0                                 1  \\\n",
       "0                王奕翔（範例）    通訊、statistical learning theory   \n",
       "1              黃鐘揚 (Ric)                   Web Programming   \n",
       "2             陳和麟（Holin）  Game Theory, Molecular Computing   \n",
       "3                    吳忠幟                              OLED   \n",
       "4                  張耀文\\n                               EDA   \n",
       "5  朱浩華(資工系)/游創文(Intel中心)                               IoT   \n",
       "\n",
       "                                                   2  \n",
       "0  老師的帶法比較像在帶研究生，一開始可以自己找題目或是老師會給，但要經歷一段定義題目、自行找p...  \n",
       "1    基本上就是在上課學Web Programming，這門課的節奏比較緊湊，但是能學到非常多東西。  \n",
       "2  一般一次完整的專題是一年，第一學期會每週有固定group meeting，一人應該是分到兩次...  \n",
       "3  一開始老師會給題目，完整做大約要一年以上。有很厲害的博班學長帶，但他們大多時候就是只會教你用...  \n",
       "4  有幾種模式：1.跟台積電的計劃2.自己做新題目，\"有可能\"可以發paper 3.跟學長姊的研...  \n",
       "5  講重點：不要問，很可怕。學長字字血淚，請幫QQ。\\n面談時老師會跟你畫一個很美好的願景，未來...  "
      ]
     },
     "execution_count": 5,
     "metadata": {},
     "output_type": "execute_result"
    }
   ],
   "source": [
    "data"
   ]
  },
  {
   "cell_type": "code",
   "execution_count": 133,
   "metadata": {
    "collapsed": false,
    "deletable": true,
    "editable": true
   },
   "outputs": [],
   "source": [
    "prof = data.get(0)\n",
    "domain = data.get(1)\n",
    "content = data.get(2)"
   ]
  },
  {
   "cell_type": "code",
   "execution_count": 134,
   "metadata": {
    "collapsed": true,
    "deletable": true,
    "editable": true
   },
   "outputs": [],
   "source": [
    "f = open('./result/elective.md', 'w')"
   ]
  },
  {
   "cell_type": "code",
   "execution_count": 135,
   "metadata": {
    "collapsed": false,
    "deletable": true,
    "editable": true
   },
   "outputs": [],
   "source": [
    "for i in range(len(data)):\n",
    "    f.write(\"> \" + course_name[i] + \"\\n\\n\")\n",
    "    f.write(\"* 開課教授：\" + prof[i] + \"\\n\")\n",
    "    if recom[i] != 0:\n",
    "        f.write(\"* 推薦同時修習的課程：\" + str(recom[i]) + \"\\n\")\n",
    "    if pre_study[i] != 0:\n",
    "        f.write(\"* 推薦預先修習的課程：\" + str(pre_study[i]) + \"\\n\")\n",
    "    f.write(\"* 課程小卦：\\n\")\n",
    "    if content1[i] != 0:\n",
    "        tmp = content1[i].replace('\\n', '')\n",
    "        f.write(\"  1. \" + tmp + \"\\n\")\n",
    "    if content2[i] != 0:\n",
    "        tmp = content2[i].replace('\\n', '')\n",
    "        f.write(\"  2. \" + str(content2[i]) + \"\\n\")\n",
    "    if content3[i] != 0:\n",
    "        tmp = content3[i].replace('\\n', '')\n",
    "        f.write(\"  3. \" + str(content3[i]) + \"\\n\")\n",
    "    f.write(\"\\n\")"
   ]
  }
 ],
 "metadata": {
  "kernelspec": {
   "display_name": "Python 2",
   "language": "python",
   "name": "python2"
  },
  "language_info": {
   "codemirror_mode": {
    "name": "ipython",
    "version": 2
   },
   "file_extension": ".py",
   "mimetype": "text/x-python",
   "name": "python",
   "nbconvert_exporter": "python",
   "pygments_lexer": "ipython2",
   "version": "2.7.10"
  }
 },
 "nbformat": 4,
 "nbformat_minor": 2
}
